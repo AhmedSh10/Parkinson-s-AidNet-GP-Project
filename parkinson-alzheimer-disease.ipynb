{
 "cells": [
  {
   "cell_type": "code",
   "execution_count": 3,
   "metadata": {
    "execution": {
     "iopub.execute_input": "2022-10-27T05:53:57.662558Z",
     "iopub.status.busy": "2022-10-27T05:53:57.662152Z",
     "iopub.status.idle": "2022-10-27T05:54:04.972193Z",
     "shell.execute_reply": "2022-10-27T05:54:04.971214Z",
     "shell.execute_reply.started": "2022-10-27T05:53:57.662476Z"
    }
   },
   "outputs": [],
   "source": [
    "import numpy as np\n",
    "import os\n",
    "import matplotlib.pyplot as plt\n",
    "\n",
    "import cv2\n",
    "from tqdm import tqdm\n",
    "import io\n",
    "import seaborn as sns\n",
    "\n",
    "from sklearn.utils import shuffle \n",
    "from sklearn.model_selection import train_test_split\n",
    "from tensorflow.keras.utils import to_categorical\n",
    "\n",
    "from tensorflow.keras.applications import EfficientNetB0\n",
    "import tensorflow as tf\n",
    "from tensorflow.keras.callbacks import EarlyStopping, ReduceLROnPlateau, TensorBoard,ModelCheckpoint\n",
    "\n",
    "from sklearn.metrics import classification_report, confusion_matrix\n",
    "from keras.utils import plot_model\n",
    "\n",
    "import ipywidgets as widgets\n",
    "from PIL import Image\n",
    "from IPython.display import display, clear_output"
   ]
  },
  {
   "cell_type": "code",
   "execution_count": 4,
   "metadata": {
    "execution": {
     "iopub.execute_input": "2022-10-27T05:54:04.974918Z",
     "iopub.status.busy": "2022-10-27T05:54:04.974233Z",
     "iopub.status.idle": "2022-10-27T05:54:04.983284Z",
     "shell.execute_reply": "2022-10-27T05:54:04.981799Z",
     "shell.execute_reply.started": "2022-10-27T05:54:04.974874Z"
    }
   },
   "outputs": [],
   "source": [
    "labels = ['CONTROL', 'AD', 'PD']"
   ]
  },
  {
   "cell_type": "code",
   "execution_count": 5,
   "metadata": {
    "execution": {
     "iopub.execute_input": "2022-10-27T05:54:04.990091Z",
     "iopub.status.busy": "2022-10-27T05:54:04.989671Z",
     "iopub.status.idle": "2022-10-27T05:54:32.176926Z",
     "shell.execute_reply": "2022-10-27T05:54:32.175870Z",
     "shell.execute_reply.started": "2022-10-27T05:54:04.990047Z"
    }
   },
   "outputs": [
    {
     "name": "stderr",
     "output_type": "stream",
     "text": [
      "100%|█████████████████████████████████████████████████████████████████████████████| 3010/3010 [00:11<00:00, 261.74it/s]\n",
      "100%|█████████████████████████████████████████████████████████████████████████████| 2561/2561 [00:08<00:00, 314.46it/s]\n",
      "100%|███████████████████████████████████████████████████████████████████████████████| 906/906 [00:06<00:00, 130.59it/s]\n",
      "100%|███████████████████████████████████████████████████████████████████████████████| 662/662 [00:02<00:00, 321.01it/s]\n",
      "100%|███████████████████████████████████████████████████████████████████████████████| 639/639 [00:02<00:00, 223.37it/s]\n",
      "100%|█████████████████████████████████████████████████████████████████████████████████| 61/61 [00:00<00:00, 327.99it/s]\n"
     ]
    }
   ],
   "source": [
    "X_train = [] #Training Dataset\n",
    "Y_train = [] #Training Labels\n",
    "\n",
    "image_size=150\n",
    "\n",
    "for i in labels:\n",
    "    folderPath = os.path.join(r'C:\\\\Users\\\\mahmoud\\\\Downloads\\\\archive\\\\3_cls', 'train', i)\n",
    "    for j in tqdm(os.listdir(folderPath)):\n",
    "        image = cv2.imread(os.path.join(folderPath, j))\n",
    "        image = cv2.resize(image, (image_size, image_size))\n",
    "        X_train.append(image)\n",
    "        Y_train.append(i)\n",
    "        \n",
    "        \n",
    "for i in labels:\n",
    "    folderPath = os.path.join(r'C:\\\\Users\\\\mahmoud\\\\Downloads\\\\archive\\\\3_cls', 'test', i) \n",
    "    for j in tqdm(os.listdir(folderPath)):\n",
    "        image = cv2.imread(os.path.join(folderPath, j))\n",
    "        image = cv2.resize(image, (image_size, image_size))\n",
    "        X_train.append(image)\n",
    "        Y_train.append(i)\n",
    "        \n",
    "\n",
    "X_train = np.array(X_train)\n",
    "Y_train = np.array(Y_train)"
   ]
  },
  {
   "cell_type": "code",
   "execution_count": 6,
   "metadata": {
    "execution": {
     "iopub.execute_input": "2022-10-27T05:54:32.179269Z",
     "iopub.status.busy": "2022-10-27T05:54:32.178577Z",
     "iopub.status.idle": "2022-10-27T05:54:32.191426Z",
     "shell.execute_reply": "2022-10-27T05:54:32.190608Z",
     "shell.execute_reply.started": "2022-10-27T05:54:32.179230Z"
    }
   },
   "outputs": [
    {
     "data": {
      "text/plain": [
       "(7839, 150, 150, 3)"
      ]
     },
     "execution_count": 6,
     "metadata": {},
     "output_type": "execute_result"
    }
   ],
   "source": [
    "X_train.shape "
   ]
  },
  {
   "cell_type": "code",
   "execution_count": 7,
   "metadata": {
    "execution": {
     "iopub.execute_input": "2022-10-27T05:54:32.198477Z",
     "iopub.status.busy": "2022-10-27T05:54:32.194233Z",
     "iopub.status.idle": "2022-10-27T05:54:32.375210Z",
     "shell.execute_reply": "2022-10-27T05:54:32.374165Z",
     "shell.execute_reply.started": "2022-10-27T05:54:32.198295Z"
    }
   },
   "outputs": [],
   "source": [
    "X_train, Y_train = shuffle(X_train, Y_train, random_state=42)"
   ]
  },
  {
   "cell_type": "code",
   "execution_count": 8,
   "metadata": {
    "execution": {
     "iopub.execute_input": "2022-10-27T05:54:32.384526Z",
     "iopub.status.busy": "2022-10-27T05:54:32.381693Z",
     "iopub.status.idle": "2022-10-27T05:54:32.392808Z",
     "shell.execute_reply": "2022-10-27T05:54:32.391945Z",
     "shell.execute_reply.started": "2022-10-27T05:54:32.384477Z"
    }
   },
   "outputs": [
    {
     "data": {
      "text/plain": [
       "(7839, 150, 150, 3)"
      ]
     },
     "execution_count": 8,
     "metadata": {},
     "output_type": "execute_result"
    }
   ],
   "source": [
    "X_train.shape"
   ]
  },
  {
   "cell_type": "code",
   "execution_count": 9,
   "metadata": {
    "execution": {
     "iopub.execute_input": "2022-10-27T05:54:32.396142Z",
     "iopub.status.busy": "2022-10-27T05:54:32.395785Z",
     "iopub.status.idle": "2022-10-27T05:54:32.552925Z",
     "shell.execute_reply": "2022-10-27T05:54:32.551912Z",
     "shell.execute_reply.started": "2022-10-27T05:54:32.396095Z"
    }
   },
   "outputs": [],
   "source": [
    "X_train, X_test, Y_train, Y_test = train_test_split(X_train, Y_train, test_size=0.1, random_state=42)"
   ]
  },
  {
   "cell_type": "code",
   "execution_count": 10,
   "metadata": {
    "execution": {
     "iopub.execute_input": "2022-10-27T05:54:32.556007Z",
     "iopub.status.busy": "2022-10-27T05:54:32.555591Z",
     "iopub.status.idle": "2022-10-27T05:54:32.566742Z",
     "shell.execute_reply": "2022-10-27T05:54:32.565673Z",
     "shell.execute_reply.started": "2022-10-27T05:54:32.555969Z"
    }
   },
   "outputs": [],
   "source": [
    "y_train_new = []\n",
    "y_test_new = []\n",
    "\n",
    "for i in Y_train:\n",
    "    y_train_new.append(labels.index(i))#Converting String Label to integer i.e\n",
    "                                       # CONTROL ---> 0, AD---> 1, PD ---> 2\n",
    "Y_train = to_categorical(y_train_new) #Converts a class vector (integers) to binary class matrix\n",
    "\n",
    "for i in Y_test:\n",
    "    y_test_new.append(labels.index(i))\n",
    "\n",
    "Y_test = to_categorical(y_test_new)"
   ]
  },
  {
   "cell_type": "code",
   "execution_count": 11,
   "metadata": {
    "execution": {
     "iopub.execute_input": "2022-10-27T05:54:32.568766Z",
     "iopub.status.busy": "2022-10-27T05:54:32.568408Z",
     "iopub.status.idle": "2022-10-27T05:54:32.582735Z",
     "shell.execute_reply": "2022-10-27T05:54:32.581791Z",
     "shell.execute_reply.started": "2022-10-27T05:54:32.568731Z"
    }
   },
   "outputs": [
    {
     "data": {
      "text/plain": [
       "array([[0., 1., 0.],\n",
       "       [0., 1., 0.],\n",
       "       [1., 0., 0.],\n",
       "       ...,\n",
       "       [0., 1., 0.],\n",
       "       [0., 1., 0.],\n",
       "       [0., 1., 0.]], dtype=float32)"
      ]
     },
     "execution_count": 11,
     "metadata": {},
     "output_type": "execute_result"
    }
   ],
   "source": [
    "Y_train"
   ]
  },
  {
   "cell_type": "code",
   "execution_count": 12,
   "metadata": {
    "execution": {
     "iopub.execute_input": "2022-10-27T05:54:32.584678Z",
     "iopub.status.busy": "2022-10-27T05:54:32.584204Z",
     "iopub.status.idle": "2022-10-27T05:54:38.292203Z",
     "shell.execute_reply": "2022-10-27T05:54:38.291277Z",
     "shell.execute_reply.started": "2022-10-27T05:54:32.584633Z"
    }
   },
   "outputs": [],
   "source": [
    "efficientnet_B0 = EfficientNetB0(include_top=False,\n",
    "    weights='imagenet',\n",
    "    input_shape=(image_size, image_size, 3))"
   ]
  },
  {
   "cell_type": "code",
   "execution_count": 13,
   "metadata": {
    "execution": {
     "iopub.execute_input": "2022-10-27T05:54:38.296163Z",
     "iopub.status.busy": "2022-10-27T05:54:38.293595Z",
     "iopub.status.idle": "2022-10-27T05:54:38.320596Z",
     "shell.execute_reply": "2022-10-27T05:54:38.319767Z",
     "shell.execute_reply.started": "2022-10-27T05:54:38.296126Z"
    }
   },
   "outputs": [],
   "source": [
    "model = efficientnet_B0.output\n",
    "model = tf.keras.layers.GlobalAveragePooling2D()(model)\n",
    "model = tf.keras.layers.Dropout(0.5)(model)\n",
    "model = tf.keras.layers.Dense(3, activation='softmax')(model)"
   ]
  },
  {
   "cell_type": "code",
   "execution_count": 14,
   "metadata": {
    "execution": {
     "iopub.execute_input": "2022-10-27T05:54:38.323033Z",
     "iopub.status.busy": "2022-10-27T05:54:38.322429Z",
     "iopub.status.idle": "2022-10-27T05:54:38.366805Z",
     "shell.execute_reply": "2022-10-27T05:54:38.365774Z",
     "shell.execute_reply.started": "2022-10-27T05:54:38.322956Z"
    }
   },
   "outputs": [
    {
     "name": "stdout",
     "output_type": "stream",
     "text": [
      "Model: \"model\"\n",
      "__________________________________________________________________________________________________\n",
      " Layer (type)                Output Shape                 Param #   Connected to                  \n",
      "==================================================================================================\n",
      " input_1 (InputLayer)        [(None, 150, 150, 3)]        0         []                            \n",
      "                                                                                                  \n",
      " rescaling (Rescaling)       (None, 150, 150, 3)          0         ['input_1[0][0]']             \n",
      "                                                                                                  \n",
      " normalization (Normalizati  (None, 150, 150, 3)          7         ['rescaling[0][0]']           \n",
      " on)                                                                                              \n",
      "                                                                                                  \n",
      " rescaling_1 (Rescaling)     (None, 150, 150, 3)          0         ['normalization[0][0]']       \n",
      "                                                                                                  \n",
      " stem_conv_pad (ZeroPadding  (None, 151, 151, 3)          0         ['rescaling_1[0][0]']         \n",
      " 2D)                                                                                              \n",
      "                                                                                                  \n",
      " stem_conv (Conv2D)          (None, 75, 75, 32)           864       ['stem_conv_pad[0][0]']       \n",
      "                                                                                                  \n",
      " stem_bn (BatchNormalizatio  (None, 75, 75, 32)           128       ['stem_conv[0][0]']           \n",
      " n)                                                                                               \n",
      "                                                                                                  \n",
      " stem_activation (Activatio  (None, 75, 75, 32)           0         ['stem_bn[0][0]']             \n",
      " n)                                                                                               \n",
      "                                                                                                  \n",
      " block1a_dwconv (DepthwiseC  (None, 75, 75, 32)           288       ['stem_activation[0][0]']     \n",
      " onv2D)                                                                                           \n",
      "                                                                                                  \n",
      " block1a_bn (BatchNormaliza  (None, 75, 75, 32)           128       ['block1a_dwconv[0][0]']      \n",
      " tion)                                                                                            \n",
      "                                                                                                  \n",
      " block1a_activation (Activa  (None, 75, 75, 32)           0         ['block1a_bn[0][0]']          \n",
      " tion)                                                                                            \n",
      "                                                                                                  \n",
      " block1a_se_squeeze (Global  (None, 32)                   0         ['block1a_activation[0][0]']  \n",
      " AveragePooling2D)                                                                                \n",
      "                                                                                                  \n",
      " block1a_se_reshape (Reshap  (None, 1, 1, 32)             0         ['block1a_se_squeeze[0][0]']  \n",
      " e)                                                                                               \n",
      "                                                                                                  \n",
      " block1a_se_reduce (Conv2D)  (None, 1, 1, 8)              264       ['block1a_se_reshape[0][0]']  \n",
      "                                                                                                  \n",
      " block1a_se_expand (Conv2D)  (None, 1, 1, 32)             288       ['block1a_se_reduce[0][0]']   \n",
      "                                                                                                  \n",
      " block1a_se_excite (Multipl  (None, 75, 75, 32)           0         ['block1a_activation[0][0]',  \n",
      " y)                                                                  'block1a_se_expand[0][0]']   \n",
      "                                                                                                  \n",
      " block1a_project_conv (Conv  (None, 75, 75, 16)           512       ['block1a_se_excite[0][0]']   \n",
      " 2D)                                                                                              \n",
      "                                                                                                  \n",
      " block1a_project_bn (BatchN  (None, 75, 75, 16)           64        ['block1a_project_conv[0][0]']\n",
      " ormalization)                                                                                    \n",
      "                                                                                                  \n",
      " block2a_expand_conv (Conv2  (None, 75, 75, 96)           1536      ['block1a_project_bn[0][0]']  \n",
      " D)                                                                                               \n",
      "                                                                                                  \n",
      " block2a_expand_bn (BatchNo  (None, 75, 75, 96)           384       ['block2a_expand_conv[0][0]'] \n",
      " rmalization)                                                                                     \n",
      "                                                                                                  \n",
      " block2a_expand_activation   (None, 75, 75, 96)           0         ['block2a_expand_bn[0][0]']   \n",
      " (Activation)                                                                                     \n",
      "                                                                                                  \n",
      " block2a_dwconv_pad (ZeroPa  (None, 77, 77, 96)           0         ['block2a_expand_activation[0]\n",
      " dding2D)                                                           [0]']                         \n",
      "                                                                                                  \n",
      " block2a_dwconv (DepthwiseC  (None, 38, 38, 96)           864       ['block2a_dwconv_pad[0][0]']  \n",
      " onv2D)                                                                                           \n",
      "                                                                                                  \n",
      " block2a_bn (BatchNormaliza  (None, 38, 38, 96)           384       ['block2a_dwconv[0][0]']      \n",
      " tion)                                                                                            \n",
      "                                                                                                  \n",
      " block2a_activation (Activa  (None, 38, 38, 96)           0         ['block2a_bn[0][0]']          \n",
      " tion)                                                                                            \n",
      "                                                                                                  \n",
      " block2a_se_squeeze (Global  (None, 96)                   0         ['block2a_activation[0][0]']  \n",
      " AveragePooling2D)                                                                                \n",
      "                                                                                                  \n",
      " block2a_se_reshape (Reshap  (None, 1, 1, 96)             0         ['block2a_se_squeeze[0][0]']  \n",
      " e)                                                                                               \n",
      "                                                                                                  \n",
      " block2a_se_reduce (Conv2D)  (None, 1, 1, 4)              388       ['block2a_se_reshape[0][0]']  \n",
      "                                                                                                  \n",
      " block2a_se_expand (Conv2D)  (None, 1, 1, 96)             480       ['block2a_se_reduce[0][0]']   \n",
      "                                                                                                  \n",
      " block2a_se_excite (Multipl  (None, 38, 38, 96)           0         ['block2a_activation[0][0]',  \n"
     ]
    },
    {
     "name": "stdout",
     "output_type": "stream",
     "text": [
      " y)                                                                  'block2a_se_expand[0][0]']   \n",
      "                                                                                                  \n",
      " block2a_project_conv (Conv  (None, 38, 38, 24)           2304      ['block2a_se_excite[0][0]']   \n",
      " 2D)                                                                                              \n",
      "                                                                                                  \n",
      " block2a_project_bn (BatchN  (None, 38, 38, 24)           96        ['block2a_project_conv[0][0]']\n",
      " ormalization)                                                                                    \n",
      "                                                                                                  \n",
      " block2b_expand_conv (Conv2  (None, 38, 38, 144)          3456      ['block2a_project_bn[0][0]']  \n",
      " D)                                                                                               \n",
      "                                                                                                  \n",
      " block2b_expand_bn (BatchNo  (None, 38, 38, 144)          576       ['block2b_expand_conv[0][0]'] \n",
      " rmalization)                                                                                     \n",
      "                                                                                                  \n",
      " block2b_expand_activation   (None, 38, 38, 144)          0         ['block2b_expand_bn[0][0]']   \n",
      " (Activation)                                                                                     \n",
      "                                                                                                  \n",
      " block2b_dwconv (DepthwiseC  (None, 38, 38, 144)          1296      ['block2b_expand_activation[0]\n",
      " onv2D)                                                             [0]']                         \n",
      "                                                                                                  \n",
      " block2b_bn (BatchNormaliza  (None, 38, 38, 144)          576       ['block2b_dwconv[0][0]']      \n",
      " tion)                                                                                            \n",
      "                                                                                                  \n",
      " block2b_activation (Activa  (None, 38, 38, 144)          0         ['block2b_bn[0][0]']          \n",
      " tion)                                                                                            \n",
      "                                                                                                  \n",
      " block2b_se_squeeze (Global  (None, 144)                  0         ['block2b_activation[0][0]']  \n",
      " AveragePooling2D)                                                                                \n",
      "                                                                                                  \n",
      " block2b_se_reshape (Reshap  (None, 1, 1, 144)            0         ['block2b_se_squeeze[0][0]']  \n",
      " e)                                                                                               \n",
      "                                                                                                  \n",
      " block2b_se_reduce (Conv2D)  (None, 1, 1, 6)              870       ['block2b_se_reshape[0][0]']  \n",
      "                                                                                                  \n",
      " block2b_se_expand (Conv2D)  (None, 1, 1, 144)            1008      ['block2b_se_reduce[0][0]']   \n",
      "                                                                                                  \n",
      " block2b_se_excite (Multipl  (None, 38, 38, 144)          0         ['block2b_activation[0][0]',  \n",
      " y)                                                                  'block2b_se_expand[0][0]']   \n",
      "                                                                                                  \n",
      " block2b_project_conv (Conv  (None, 38, 38, 24)           3456      ['block2b_se_excite[0][0]']   \n",
      " 2D)                                                                                              \n",
      "                                                                                                  \n",
      " block2b_project_bn (BatchN  (None, 38, 38, 24)           96        ['block2b_project_conv[0][0]']\n",
      " ormalization)                                                                                    \n",
      "                                                                                                  \n",
      " block2b_drop (Dropout)      (None, 38, 38, 24)           0         ['block2b_project_bn[0][0]']  \n",
      "                                                                                                  \n",
      " block2b_add (Add)           (None, 38, 38, 24)           0         ['block2b_drop[0][0]',        \n",
      "                                                                     'block2a_project_bn[0][0]']  \n",
      "                                                                                                  \n",
      " block3a_expand_conv (Conv2  (None, 38, 38, 144)          3456      ['block2b_add[0][0]']         \n",
      " D)                                                                                               \n",
      "                                                                                                  \n",
      " block3a_expand_bn (BatchNo  (None, 38, 38, 144)          576       ['block3a_expand_conv[0][0]'] \n",
      " rmalization)                                                                                     \n",
      "                                                                                                  \n",
      " block3a_expand_activation   (None, 38, 38, 144)          0         ['block3a_expand_bn[0][0]']   \n",
      " (Activation)                                                                                     \n",
      "                                                                                                  \n",
      " block3a_dwconv_pad (ZeroPa  (None, 41, 41, 144)          0         ['block3a_expand_activation[0]\n",
      " dding2D)                                                           [0]']                         \n",
      "                                                                                                  \n",
      " block3a_dwconv (DepthwiseC  (None, 19, 19, 144)          3600      ['block3a_dwconv_pad[0][0]']  \n",
      " onv2D)                                                                                           \n",
      "                                                                                                  \n",
      " block3a_bn (BatchNormaliza  (None, 19, 19, 144)          576       ['block3a_dwconv[0][0]']      \n",
      " tion)                                                                                            \n",
      "                                                                                                  \n",
      " block3a_activation (Activa  (None, 19, 19, 144)          0         ['block3a_bn[0][0]']          \n",
      " tion)                                                                                            \n",
      "                                                                                                  \n",
      " block3a_se_squeeze (Global  (None, 144)                  0         ['block3a_activation[0][0]']  \n",
      " AveragePooling2D)                                                                                \n",
      "                                                                                                  \n",
      " block3a_se_reshape (Reshap  (None, 1, 1, 144)            0         ['block3a_se_squeeze[0][0]']  \n",
      " e)                                                                                               \n",
      "                                                                                                  \n",
      " block3a_se_reduce (Conv2D)  (None, 1, 1, 6)              870       ['block3a_se_reshape[0][0]']  \n",
      "                                                                                                  \n",
      " block3a_se_expand (Conv2D)  (None, 1, 1, 144)            1008      ['block3a_se_reduce[0][0]']   \n",
      "                                                                                                  \n",
      " block3a_se_excite (Multipl  (None, 19, 19, 144)          0         ['block3a_activation[0][0]',  \n",
      " y)                                                                  'block3a_se_expand[0][0]']   \n"
     ]
    },
    {
     "name": "stdout",
     "output_type": "stream",
     "text": [
      "                                                                                                  \n",
      " block3a_project_conv (Conv  (None, 19, 19, 40)           5760      ['block3a_se_excite[0][0]']   \n",
      " 2D)                                                                                              \n",
      "                                                                                                  \n",
      " block3a_project_bn (BatchN  (None, 19, 19, 40)           160       ['block3a_project_conv[0][0]']\n",
      " ormalization)                                                                                    \n",
      "                                                                                                  \n",
      " block3b_expand_conv (Conv2  (None, 19, 19, 240)          9600      ['block3a_project_bn[0][0]']  \n",
      " D)                                                                                               \n",
      "                                                                                                  \n",
      " block3b_expand_bn (BatchNo  (None, 19, 19, 240)          960       ['block3b_expand_conv[0][0]'] \n",
      " rmalization)                                                                                     \n",
      "                                                                                                  \n",
      " block3b_expand_activation   (None, 19, 19, 240)          0         ['block3b_expand_bn[0][0]']   \n",
      " (Activation)                                                                                     \n",
      "                                                                                                  \n",
      " block3b_dwconv (DepthwiseC  (None, 19, 19, 240)          6000      ['block3b_expand_activation[0]\n",
      " onv2D)                                                             [0]']                         \n",
      "                                                                                                  \n",
      " block3b_bn (BatchNormaliza  (None, 19, 19, 240)          960       ['block3b_dwconv[0][0]']      \n",
      " tion)                                                                                            \n",
      "                                                                                                  \n",
      " block3b_activation (Activa  (None, 19, 19, 240)          0         ['block3b_bn[0][0]']          \n",
      " tion)                                                                                            \n",
      "                                                                                                  \n",
      " block3b_se_squeeze (Global  (None, 240)                  0         ['block3b_activation[0][0]']  \n",
      " AveragePooling2D)                                                                                \n",
      "                                                                                                  \n",
      " block3b_se_reshape (Reshap  (None, 1, 1, 240)            0         ['block3b_se_squeeze[0][0]']  \n",
      " e)                                                                                               \n",
      "                                                                                                  \n",
      " block3b_se_reduce (Conv2D)  (None, 1, 1, 10)             2410      ['block3b_se_reshape[0][0]']  \n",
      "                                                                                                  \n",
      " block3b_se_expand (Conv2D)  (None, 1, 1, 240)            2640      ['block3b_se_reduce[0][0]']   \n",
      "                                                                                                  \n",
      " block3b_se_excite (Multipl  (None, 19, 19, 240)          0         ['block3b_activation[0][0]',  \n",
      " y)                                                                  'block3b_se_expand[0][0]']   \n",
      "                                                                                                  \n",
      " block3b_project_conv (Conv  (None, 19, 19, 40)           9600      ['block3b_se_excite[0][0]']   \n",
      " 2D)                                                                                              \n",
      "                                                                                                  \n",
      " block3b_project_bn (BatchN  (None, 19, 19, 40)           160       ['block3b_project_conv[0][0]']\n",
      " ormalization)                                                                                    \n",
      "                                                                                                  \n",
      " block3b_drop (Dropout)      (None, 19, 19, 40)           0         ['block3b_project_bn[0][0]']  \n",
      "                                                                                                  \n",
      " block3b_add (Add)           (None, 19, 19, 40)           0         ['block3b_drop[0][0]',        \n",
      "                                                                     'block3a_project_bn[0][0]']  \n",
      "                                                                                                  \n",
      " block4a_expand_conv (Conv2  (None, 19, 19, 240)          9600      ['block3b_add[0][0]']         \n",
      " D)                                                                                               \n",
      "                                                                                                  \n",
      " block4a_expand_bn (BatchNo  (None, 19, 19, 240)          960       ['block4a_expand_conv[0][0]'] \n",
      " rmalization)                                                                                     \n",
      "                                                                                                  \n",
      " block4a_expand_activation   (None, 19, 19, 240)          0         ['block4a_expand_bn[0][0]']   \n",
      " (Activation)                                                                                     \n",
      "                                                                                                  \n",
      " block4a_dwconv_pad (ZeroPa  (None, 21, 21, 240)          0         ['block4a_expand_activation[0]\n",
      " dding2D)                                                           [0]']                         \n",
      "                                                                                                  \n",
      " block4a_dwconv (DepthwiseC  (None, 10, 10, 240)          2160      ['block4a_dwconv_pad[0][0]']  \n",
      " onv2D)                                                                                           \n",
      "                                                                                                  \n",
      " block4a_bn (BatchNormaliza  (None, 10, 10, 240)          960       ['block4a_dwconv[0][0]']      \n",
      " tion)                                                                                            \n",
      "                                                                                                  \n",
      " block4a_activation (Activa  (None, 10, 10, 240)          0         ['block4a_bn[0][0]']          \n",
      " tion)                                                                                            \n",
      "                                                                                                  \n",
      " block4a_se_squeeze (Global  (None, 240)                  0         ['block4a_activation[0][0]']  \n",
      " AveragePooling2D)                                                                                \n",
      "                                                                                                  \n",
      " block4a_se_reshape (Reshap  (None, 1, 1, 240)            0         ['block4a_se_squeeze[0][0]']  \n",
      " e)                                                                                               \n",
      "                                                                                                  \n",
      " block4a_se_reduce (Conv2D)  (None, 1, 1, 10)             2410      ['block4a_se_reshape[0][0]']  \n",
      "                                                                                                  \n",
      " block4a_se_expand (Conv2D)  (None, 1, 1, 240)            2640      ['block4a_se_reduce[0][0]']   \n",
      "                                                                                                  \n",
      " block4a_se_excite (Multipl  (None, 10, 10, 240)          0         ['block4a_activation[0][0]',  \n",
      " y)                                                                  'block4a_se_expand[0][0]']   \n",
      "                                                                                                  \n"
     ]
    },
    {
     "name": "stdout",
     "output_type": "stream",
     "text": [
      " block4a_project_conv (Conv  (None, 10, 10, 80)           19200     ['block4a_se_excite[0][0]']   \n",
      " 2D)                                                                                              \n",
      "                                                                                                  \n",
      " block4a_project_bn (BatchN  (None, 10, 10, 80)           320       ['block4a_project_conv[0][0]']\n",
      " ormalization)                                                                                    \n",
      "                                                                                                  \n",
      " block4b_expand_conv (Conv2  (None, 10, 10, 480)          38400     ['block4a_project_bn[0][0]']  \n",
      " D)                                                                                               \n",
      "                                                                                                  \n",
      " block4b_expand_bn (BatchNo  (None, 10, 10, 480)          1920      ['block4b_expand_conv[0][0]'] \n",
      " rmalization)                                                                                     \n",
      "                                                                                                  \n",
      " block4b_expand_activation   (None, 10, 10, 480)          0         ['block4b_expand_bn[0][0]']   \n",
      " (Activation)                                                                                     \n",
      "                                                                                                  \n",
      " block4b_dwconv (DepthwiseC  (None, 10, 10, 480)          4320      ['block4b_expand_activation[0]\n",
      " onv2D)                                                             [0]']                         \n",
      "                                                                                                  \n",
      " block4b_bn (BatchNormaliza  (None, 10, 10, 480)          1920      ['block4b_dwconv[0][0]']      \n",
      " tion)                                                                                            \n",
      "                                                                                                  \n",
      " block4b_activation (Activa  (None, 10, 10, 480)          0         ['block4b_bn[0][0]']          \n",
      " tion)                                                                                            \n",
      "                                                                                                  \n",
      " block4b_se_squeeze (Global  (None, 480)                  0         ['block4b_activation[0][0]']  \n",
      " AveragePooling2D)                                                                                \n",
      "                                                                                                  \n",
      " block4b_se_reshape (Reshap  (None, 1, 1, 480)            0         ['block4b_se_squeeze[0][0]']  \n",
      " e)                                                                                               \n",
      "                                                                                                  \n",
      " block4b_se_reduce (Conv2D)  (None, 1, 1, 20)             9620      ['block4b_se_reshape[0][0]']  \n",
      "                                                                                                  \n",
      " block4b_se_expand (Conv2D)  (None, 1, 1, 480)            10080     ['block4b_se_reduce[0][0]']   \n",
      "                                                                                                  \n",
      " block4b_se_excite (Multipl  (None, 10, 10, 480)          0         ['block4b_activation[0][0]',  \n",
      " y)                                                                  'block4b_se_expand[0][0]']   \n",
      "                                                                                                  \n",
      " block4b_project_conv (Conv  (None, 10, 10, 80)           38400     ['block4b_se_excite[0][0]']   \n",
      " 2D)                                                                                              \n",
      "                                                                                                  \n",
      " block4b_project_bn (BatchN  (None, 10, 10, 80)           320       ['block4b_project_conv[0][0]']\n",
      " ormalization)                                                                                    \n",
      "                                                                                                  \n",
      " block4b_drop (Dropout)      (None, 10, 10, 80)           0         ['block4b_project_bn[0][0]']  \n",
      "                                                                                                  \n",
      " block4b_add (Add)           (None, 10, 10, 80)           0         ['block4b_drop[0][0]',        \n",
      "                                                                     'block4a_project_bn[0][0]']  \n",
      "                                                                                                  \n",
      " block4c_expand_conv (Conv2  (None, 10, 10, 480)          38400     ['block4b_add[0][0]']         \n",
      " D)                                                                                               \n",
      "                                                                                                  \n",
      " block4c_expand_bn (BatchNo  (None, 10, 10, 480)          1920      ['block4c_expand_conv[0][0]'] \n",
      " rmalization)                                                                                     \n",
      "                                                                                                  \n",
      " block4c_expand_activation   (None, 10, 10, 480)          0         ['block4c_expand_bn[0][0]']   \n",
      " (Activation)                                                                                     \n",
      "                                                                                                  \n",
      " block4c_dwconv (DepthwiseC  (None, 10, 10, 480)          4320      ['block4c_expand_activation[0]\n",
      " onv2D)                                                             [0]']                         \n",
      "                                                                                                  \n",
      " block4c_bn (BatchNormaliza  (None, 10, 10, 480)          1920      ['block4c_dwconv[0][0]']      \n",
      " tion)                                                                                            \n",
      "                                                                                                  \n",
      " block4c_activation (Activa  (None, 10, 10, 480)          0         ['block4c_bn[0][0]']          \n",
      " tion)                                                                                            \n",
      "                                                                                                  \n",
      " block4c_se_squeeze (Global  (None, 480)                  0         ['block4c_activation[0][0]']  \n",
      " AveragePooling2D)                                                                                \n",
      "                                                                                                  \n",
      " block4c_se_reshape (Reshap  (None, 1, 1, 480)            0         ['block4c_se_squeeze[0][0]']  \n",
      " e)                                                                                               \n",
      "                                                                                                  \n",
      " block4c_se_reduce (Conv2D)  (None, 1, 1, 20)             9620      ['block4c_se_reshape[0][0]']  \n",
      "                                                                                                  \n",
      " block4c_se_expand (Conv2D)  (None, 1, 1, 480)            10080     ['block4c_se_reduce[0][0]']   \n",
      "                                                                                                  \n",
      " block4c_se_excite (Multipl  (None, 10, 10, 480)          0         ['block4c_activation[0][0]',  \n",
      " y)                                                                  'block4c_se_expand[0][0]']   \n",
      "                                                                                                  \n",
      " block4c_project_conv (Conv  (None, 10, 10, 80)           38400     ['block4c_se_excite[0][0]']   \n",
      " 2D)                                                                                              \n",
      "                                                                                                  \n",
      " block4c_project_bn (BatchN  (None, 10, 10, 80)           320       ['block4c_project_conv[0][0]']\n"
     ]
    },
    {
     "name": "stdout",
     "output_type": "stream",
     "text": [
      " ormalization)                                                                                    \n",
      "                                                                                                  \n",
      " block4c_drop (Dropout)      (None, 10, 10, 80)           0         ['block4c_project_bn[0][0]']  \n",
      "                                                                                                  \n",
      " block4c_add (Add)           (None, 10, 10, 80)           0         ['block4c_drop[0][0]',        \n",
      "                                                                     'block4b_add[0][0]']         \n",
      "                                                                                                  \n",
      " block5a_expand_conv (Conv2  (None, 10, 10, 480)          38400     ['block4c_add[0][0]']         \n",
      " D)                                                                                               \n",
      "                                                                                                  \n",
      " block5a_expand_bn (BatchNo  (None, 10, 10, 480)          1920      ['block5a_expand_conv[0][0]'] \n",
      " rmalization)                                                                                     \n",
      "                                                                                                  \n",
      " block5a_expand_activation   (None, 10, 10, 480)          0         ['block5a_expand_bn[0][0]']   \n",
      " (Activation)                                                                                     \n",
      "                                                                                                  \n",
      " block5a_dwconv (DepthwiseC  (None, 10, 10, 480)          12000     ['block5a_expand_activation[0]\n",
      " onv2D)                                                             [0]']                         \n",
      "                                                                                                  \n",
      " block5a_bn (BatchNormaliza  (None, 10, 10, 480)          1920      ['block5a_dwconv[0][0]']      \n",
      " tion)                                                                                            \n",
      "                                                                                                  \n",
      " block5a_activation (Activa  (None, 10, 10, 480)          0         ['block5a_bn[0][0]']          \n",
      " tion)                                                                                            \n",
      "                                                                                                  \n",
      " block5a_se_squeeze (Global  (None, 480)                  0         ['block5a_activation[0][0]']  \n",
      " AveragePooling2D)                                                                                \n",
      "                                                                                                  \n",
      " block5a_se_reshape (Reshap  (None, 1, 1, 480)            0         ['block5a_se_squeeze[0][0]']  \n",
      " e)                                                                                               \n",
      "                                                                                                  \n",
      " block5a_se_reduce (Conv2D)  (None, 1, 1, 20)             9620      ['block5a_se_reshape[0][0]']  \n",
      "                                                                                                  \n",
      " block5a_se_expand (Conv2D)  (None, 1, 1, 480)            10080     ['block5a_se_reduce[0][0]']   \n",
      "                                                                                                  \n",
      " block5a_se_excite (Multipl  (None, 10, 10, 480)          0         ['block5a_activation[0][0]',  \n",
      " y)                                                                  'block5a_se_expand[0][0]']   \n",
      "                                                                                                  \n",
      " block5a_project_conv (Conv  (None, 10, 10, 112)          53760     ['block5a_se_excite[0][0]']   \n",
      " 2D)                                                                                              \n",
      "                                                                                                  \n",
      " block5a_project_bn (BatchN  (None, 10, 10, 112)          448       ['block5a_project_conv[0][0]']\n",
      " ormalization)                                                                                    \n",
      "                                                                                                  \n",
      " block5b_expand_conv (Conv2  (None, 10, 10, 672)          75264     ['block5a_project_bn[0][0]']  \n",
      " D)                                                                                               \n",
      "                                                                                                  \n",
      " block5b_expand_bn (BatchNo  (None, 10, 10, 672)          2688      ['block5b_expand_conv[0][0]'] \n",
      " rmalization)                                                                                     \n",
      "                                                                                                  \n",
      " block5b_expand_activation   (None, 10, 10, 672)          0         ['block5b_expand_bn[0][0]']   \n",
      " (Activation)                                                                                     \n",
      "                                                                                                  \n",
      " block5b_dwconv (DepthwiseC  (None, 10, 10, 672)          16800     ['block5b_expand_activation[0]\n",
      " onv2D)                                                             [0]']                         \n",
      "                                                                                                  \n",
      " block5b_bn (BatchNormaliza  (None, 10, 10, 672)          2688      ['block5b_dwconv[0][0]']      \n",
      " tion)                                                                                            \n",
      "                                                                                                  \n",
      " block5b_activation (Activa  (None, 10, 10, 672)          0         ['block5b_bn[0][0]']          \n",
      " tion)                                                                                            \n",
      "                                                                                                  \n",
      " block5b_se_squeeze (Global  (None, 672)                  0         ['block5b_activation[0][0]']  \n",
      " AveragePooling2D)                                                                                \n",
      "                                                                                                  \n",
      " block5b_se_reshape (Reshap  (None, 1, 1, 672)            0         ['block5b_se_squeeze[0][0]']  \n",
      " e)                                                                                               \n",
      "                                                                                                  \n",
      " block5b_se_reduce (Conv2D)  (None, 1, 1, 28)             18844     ['block5b_se_reshape[0][0]']  \n",
      "                                                                                                  \n",
      " block5b_se_expand (Conv2D)  (None, 1, 1, 672)            19488     ['block5b_se_reduce[0][0]']   \n",
      "                                                                                                  \n",
      " block5b_se_excite (Multipl  (None, 10, 10, 672)          0         ['block5b_activation[0][0]',  \n",
      " y)                                                                  'block5b_se_expand[0][0]']   \n",
      "                                                                                                  \n",
      " block5b_project_conv (Conv  (None, 10, 10, 112)          75264     ['block5b_se_excite[0][0]']   \n",
      " 2D)                                                                                              \n",
      "                                                                                                  \n",
      " block5b_project_bn (BatchN  (None, 10, 10, 112)          448       ['block5b_project_conv[0][0]']\n",
      " ormalization)                                                                                    \n",
      "                                                                                                  \n",
      " block5b_drop (Dropout)      (None, 10, 10, 112)          0         ['block5b_project_bn[0][0]']  \n",
      "                                                                                                  \n"
     ]
    },
    {
     "name": "stdout",
     "output_type": "stream",
     "text": [
      " block5b_add (Add)           (None, 10, 10, 112)          0         ['block5b_drop[0][0]',        \n",
      "                                                                     'block5a_project_bn[0][0]']  \n",
      "                                                                                                  \n",
      " block5c_expand_conv (Conv2  (None, 10, 10, 672)          75264     ['block5b_add[0][0]']         \n",
      " D)                                                                                               \n",
      "                                                                                                  \n",
      " block5c_expand_bn (BatchNo  (None, 10, 10, 672)          2688      ['block5c_expand_conv[0][0]'] \n",
      " rmalization)                                                                                     \n",
      "                                                                                                  \n",
      " block5c_expand_activation   (None, 10, 10, 672)          0         ['block5c_expand_bn[0][0]']   \n",
      " (Activation)                                                                                     \n",
      "                                                                                                  \n",
      " block5c_dwconv (DepthwiseC  (None, 10, 10, 672)          16800     ['block5c_expand_activation[0]\n",
      " onv2D)                                                             [0]']                         \n",
      "                                                                                                  \n",
      " block5c_bn (BatchNormaliza  (None, 10, 10, 672)          2688      ['block5c_dwconv[0][0]']      \n",
      " tion)                                                                                            \n",
      "                                                                                                  \n",
      " block5c_activation (Activa  (None, 10, 10, 672)          0         ['block5c_bn[0][0]']          \n",
      " tion)                                                                                            \n",
      "                                                                                                  \n",
      " block5c_se_squeeze (Global  (None, 672)                  0         ['block5c_activation[0][0]']  \n",
      " AveragePooling2D)                                                                                \n",
      "                                                                                                  \n",
      " block5c_se_reshape (Reshap  (None, 1, 1, 672)            0         ['block5c_se_squeeze[0][0]']  \n",
      " e)                                                                                               \n",
      "                                                                                                  \n",
      " block5c_se_reduce (Conv2D)  (None, 1, 1, 28)             18844     ['block5c_se_reshape[0][0]']  \n",
      "                                                                                                  \n",
      " block5c_se_expand (Conv2D)  (None, 1, 1, 672)            19488     ['block5c_se_reduce[0][0]']   \n",
      "                                                                                                  \n",
      " block5c_se_excite (Multipl  (None, 10, 10, 672)          0         ['block5c_activation[0][0]',  \n",
      " y)                                                                  'block5c_se_expand[0][0]']   \n",
      "                                                                                                  \n",
      " block5c_project_conv (Conv  (None, 10, 10, 112)          75264     ['block5c_se_excite[0][0]']   \n",
      " 2D)                                                                                              \n",
      "                                                                                                  \n",
      " block5c_project_bn (BatchN  (None, 10, 10, 112)          448       ['block5c_project_conv[0][0]']\n",
      " ormalization)                                                                                    \n",
      "                                                                                                  \n",
      " block5c_drop (Dropout)      (None, 10, 10, 112)          0         ['block5c_project_bn[0][0]']  \n",
      "                                                                                                  \n",
      " block5c_add (Add)           (None, 10, 10, 112)          0         ['block5c_drop[0][0]',        \n",
      "                                                                     'block5b_add[0][0]']         \n",
      "                                                                                                  \n",
      " block6a_expand_conv (Conv2  (None, 10, 10, 672)          75264     ['block5c_add[0][0]']         \n",
      " D)                                                                                               \n",
      "                                                                                                  \n",
      " block6a_expand_bn (BatchNo  (None, 10, 10, 672)          2688      ['block6a_expand_conv[0][0]'] \n",
      " rmalization)                                                                                     \n",
      "                                                                                                  \n",
      " block6a_expand_activation   (None, 10, 10, 672)          0         ['block6a_expand_bn[0][0]']   \n",
      " (Activation)                                                                                     \n",
      "                                                                                                  \n",
      " block6a_dwconv_pad (ZeroPa  (None, 13, 13, 672)          0         ['block6a_expand_activation[0]\n",
      " dding2D)                                                           [0]']                         \n",
      "                                                                                                  \n",
      " block6a_dwconv (DepthwiseC  (None, 5, 5, 672)            16800     ['block6a_dwconv_pad[0][0]']  \n",
      " onv2D)                                                                                           \n",
      "                                                                                                  \n",
      " block6a_bn (BatchNormaliza  (None, 5, 5, 672)            2688      ['block6a_dwconv[0][0]']      \n",
      " tion)                                                                                            \n",
      "                                                                                                  \n",
      " block6a_activation (Activa  (None, 5, 5, 672)            0         ['block6a_bn[0][0]']          \n",
      " tion)                                                                                            \n",
      "                                                                                                  \n",
      " block6a_se_squeeze (Global  (None, 672)                  0         ['block6a_activation[0][0]']  \n",
      " AveragePooling2D)                                                                                \n",
      "                                                                                                  \n",
      " block6a_se_reshape (Reshap  (None, 1, 1, 672)            0         ['block6a_se_squeeze[0][0]']  \n",
      " e)                                                                                               \n",
      "                                                                                                  \n",
      " block6a_se_reduce (Conv2D)  (None, 1, 1, 28)             18844     ['block6a_se_reshape[0][0]']  \n",
      "                                                                                                  \n",
      " block6a_se_expand (Conv2D)  (None, 1, 1, 672)            19488     ['block6a_se_reduce[0][0]']   \n",
      "                                                                                                  \n",
      " block6a_se_excite (Multipl  (None, 5, 5, 672)            0         ['block6a_activation[0][0]',  \n",
      " y)                                                                  'block6a_se_expand[0][0]']   \n",
      "                                                                                                  \n",
      " block6a_project_conv (Conv  (None, 5, 5, 192)            129024    ['block6a_se_excite[0][0]']   \n",
      " 2D)                                                                                              \n",
      "                                                                                                  \n",
      " block6a_project_bn (BatchN  (None, 5, 5, 192)            768       ['block6a_project_conv[0][0]']\n"
     ]
    },
    {
     "name": "stdout",
     "output_type": "stream",
     "text": [
      " ormalization)                                                                                    \n",
      "                                                                                                  \n",
      " block6b_expand_conv (Conv2  (None, 5, 5, 1152)           221184    ['block6a_project_bn[0][0]']  \n",
      " D)                                                                                               \n",
      "                                                                                                  \n",
      " block6b_expand_bn (BatchNo  (None, 5, 5, 1152)           4608      ['block6b_expand_conv[0][0]'] \n",
      " rmalization)                                                                                     \n",
      "                                                                                                  \n",
      " block6b_expand_activation   (None, 5, 5, 1152)           0         ['block6b_expand_bn[0][0]']   \n",
      " (Activation)                                                                                     \n",
      "                                                                                                  \n",
      " block6b_dwconv (DepthwiseC  (None, 5, 5, 1152)           28800     ['block6b_expand_activation[0]\n",
      " onv2D)                                                             [0]']                         \n",
      "                                                                                                  \n",
      " block6b_bn (BatchNormaliza  (None, 5, 5, 1152)           4608      ['block6b_dwconv[0][0]']      \n",
      " tion)                                                                                            \n",
      "                                                                                                  \n",
      " block6b_activation (Activa  (None, 5, 5, 1152)           0         ['block6b_bn[0][0]']          \n",
      " tion)                                                                                            \n",
      "                                                                                                  \n",
      " block6b_se_squeeze (Global  (None, 1152)                 0         ['block6b_activation[0][0]']  \n",
      " AveragePooling2D)                                                                                \n",
      "                                                                                                  \n",
      " block6b_se_reshape (Reshap  (None, 1, 1, 1152)           0         ['block6b_se_squeeze[0][0]']  \n",
      " e)                                                                                               \n",
      "                                                                                                  \n",
      " block6b_se_reduce (Conv2D)  (None, 1, 1, 48)             55344     ['block6b_se_reshape[0][0]']  \n",
      "                                                                                                  \n",
      " block6b_se_expand (Conv2D)  (None, 1, 1, 1152)           56448     ['block6b_se_reduce[0][0]']   \n",
      "                                                                                                  \n",
      " block6b_se_excite (Multipl  (None, 5, 5, 1152)           0         ['block6b_activation[0][0]',  \n",
      " y)                                                                  'block6b_se_expand[0][0]']   \n",
      "                                                                                                  \n",
      " block6b_project_conv (Conv  (None, 5, 5, 192)            221184    ['block6b_se_excite[0][0]']   \n",
      " 2D)                                                                                              \n",
      "                                                                                                  \n",
      " block6b_project_bn (BatchN  (None, 5, 5, 192)            768       ['block6b_project_conv[0][0]']\n",
      " ormalization)                                                                                    \n",
      "                                                                                                  \n",
      " block6b_drop (Dropout)      (None, 5, 5, 192)            0         ['block6b_project_bn[0][0]']  \n",
      "                                                                                                  \n",
      " block6b_add (Add)           (None, 5, 5, 192)            0         ['block6b_drop[0][0]',        \n",
      "                                                                     'block6a_project_bn[0][0]']  \n",
      "                                                                                                  \n",
      " block6c_expand_conv (Conv2  (None, 5, 5, 1152)           221184    ['block6b_add[0][0]']         \n",
      " D)                                                                                               \n",
      "                                                                                                  \n",
      " block6c_expand_bn (BatchNo  (None, 5, 5, 1152)           4608      ['block6c_expand_conv[0][0]'] \n",
      " rmalization)                                                                                     \n",
      "                                                                                                  \n",
      " block6c_expand_activation   (None, 5, 5, 1152)           0         ['block6c_expand_bn[0][0]']   \n",
      " (Activation)                                                                                     \n",
      "                                                                                                  \n",
      " block6c_dwconv (DepthwiseC  (None, 5, 5, 1152)           28800     ['block6c_expand_activation[0]\n",
      " onv2D)                                                             [0]']                         \n",
      "                                                                                                  \n",
      " block6c_bn (BatchNormaliza  (None, 5, 5, 1152)           4608      ['block6c_dwconv[0][0]']      \n",
      " tion)                                                                                            \n",
      "                                                                                                  \n",
      " block6c_activation (Activa  (None, 5, 5, 1152)           0         ['block6c_bn[0][0]']          \n",
      " tion)                                                                                            \n",
      "                                                                                                  \n",
      " block6c_se_squeeze (Global  (None, 1152)                 0         ['block6c_activation[0][0]']  \n",
      " AveragePooling2D)                                                                                \n",
      "                                                                                                  \n",
      " block6c_se_reshape (Reshap  (None, 1, 1, 1152)           0         ['block6c_se_squeeze[0][0]']  \n",
      " e)                                                                                               \n",
      "                                                                                                  \n",
      " block6c_se_reduce (Conv2D)  (None, 1, 1, 48)             55344     ['block6c_se_reshape[0][0]']  \n",
      "                                                                                                  \n",
      " block6c_se_expand (Conv2D)  (None, 1, 1, 1152)           56448     ['block6c_se_reduce[0][0]']   \n",
      "                                                                                                  \n",
      " block6c_se_excite (Multipl  (None, 5, 5, 1152)           0         ['block6c_activation[0][0]',  \n",
      " y)                                                                  'block6c_se_expand[0][0]']   \n",
      "                                                                                                  \n",
      " block6c_project_conv (Conv  (None, 5, 5, 192)            221184    ['block6c_se_excite[0][0]']   \n",
      " 2D)                                                                                              \n",
      "                                                                                                  \n",
      " block6c_project_bn (BatchN  (None, 5, 5, 192)            768       ['block6c_project_conv[0][0]']\n",
      " ormalization)                                                                                    \n",
      "                                                                                                  \n",
      " block6c_drop (Dropout)      (None, 5, 5, 192)            0         ['block6c_project_bn[0][0]']  \n",
      "                                                                                                  \n"
     ]
    },
    {
     "name": "stdout",
     "output_type": "stream",
     "text": [
      " block6c_add (Add)           (None, 5, 5, 192)            0         ['block6c_drop[0][0]',        \n",
      "                                                                     'block6b_add[0][0]']         \n",
      "                                                                                                  \n",
      " block6d_expand_conv (Conv2  (None, 5, 5, 1152)           221184    ['block6c_add[0][0]']         \n",
      " D)                                                                                               \n",
      "                                                                                                  \n",
      " block6d_expand_bn (BatchNo  (None, 5, 5, 1152)           4608      ['block6d_expand_conv[0][0]'] \n",
      " rmalization)                                                                                     \n",
      "                                                                                                  \n",
      " block6d_expand_activation   (None, 5, 5, 1152)           0         ['block6d_expand_bn[0][0]']   \n",
      " (Activation)                                                                                     \n",
      "                                                                                                  \n",
      " block6d_dwconv (DepthwiseC  (None, 5, 5, 1152)           28800     ['block6d_expand_activation[0]\n",
      " onv2D)                                                             [0]']                         \n",
      "                                                                                                  \n",
      " block6d_bn (BatchNormaliza  (None, 5, 5, 1152)           4608      ['block6d_dwconv[0][0]']      \n",
      " tion)                                                                                            \n",
      "                                                                                                  \n",
      " block6d_activation (Activa  (None, 5, 5, 1152)           0         ['block6d_bn[0][0]']          \n",
      " tion)                                                                                            \n",
      "                                                                                                  \n",
      " block6d_se_squeeze (Global  (None, 1152)                 0         ['block6d_activation[0][0]']  \n",
      " AveragePooling2D)                                                                                \n",
      "                                                                                                  \n",
      " block6d_se_reshape (Reshap  (None, 1, 1, 1152)           0         ['block6d_se_squeeze[0][0]']  \n",
      " e)                                                                                               \n",
      "                                                                                                  \n",
      " block6d_se_reduce (Conv2D)  (None, 1, 1, 48)             55344     ['block6d_se_reshape[0][0]']  \n",
      "                                                                                                  \n",
      " block6d_se_expand (Conv2D)  (None, 1, 1, 1152)           56448     ['block6d_se_reduce[0][0]']   \n",
      "                                                                                                  \n",
      " block6d_se_excite (Multipl  (None, 5, 5, 1152)           0         ['block6d_activation[0][0]',  \n",
      " y)                                                                  'block6d_se_expand[0][0]']   \n",
      "                                                                                                  \n",
      " block6d_project_conv (Conv  (None, 5, 5, 192)            221184    ['block6d_se_excite[0][0]']   \n",
      " 2D)                                                                                              \n",
      "                                                                                                  \n",
      " block6d_project_bn (BatchN  (None, 5, 5, 192)            768       ['block6d_project_conv[0][0]']\n",
      " ormalization)                                                                                    \n",
      "                                                                                                  \n",
      " block6d_drop (Dropout)      (None, 5, 5, 192)            0         ['block6d_project_bn[0][0]']  \n",
      "                                                                                                  \n",
      " block6d_add (Add)           (None, 5, 5, 192)            0         ['block6d_drop[0][0]',        \n",
      "                                                                     'block6c_add[0][0]']         \n",
      "                                                                                                  \n",
      " block7a_expand_conv (Conv2  (None, 5, 5, 1152)           221184    ['block6d_add[0][0]']         \n",
      " D)                                                                                               \n",
      "                                                                                                  \n",
      " block7a_expand_bn (BatchNo  (None, 5, 5, 1152)           4608      ['block7a_expand_conv[0][0]'] \n",
      " rmalization)                                                                                     \n",
      "                                                                                                  \n",
      " block7a_expand_activation   (None, 5, 5, 1152)           0         ['block7a_expand_bn[0][0]']   \n",
      " (Activation)                                                                                     \n",
      "                                                                                                  \n",
      " block7a_dwconv (DepthwiseC  (None, 5, 5, 1152)           10368     ['block7a_expand_activation[0]\n",
      " onv2D)                                                             [0]']                         \n",
      "                                                                                                  \n",
      " block7a_bn (BatchNormaliza  (None, 5, 5, 1152)           4608      ['block7a_dwconv[0][0]']      \n",
      " tion)                                                                                            \n",
      "                                                                                                  \n",
      " block7a_activation (Activa  (None, 5, 5, 1152)           0         ['block7a_bn[0][0]']          \n",
      " tion)                                                                                            \n",
      "                                                                                                  \n",
      " block7a_se_squeeze (Global  (None, 1152)                 0         ['block7a_activation[0][0]']  \n",
      " AveragePooling2D)                                                                                \n",
      "                                                                                                  \n",
      " block7a_se_reshape (Reshap  (None, 1, 1, 1152)           0         ['block7a_se_squeeze[0][0]']  \n",
      " e)                                                                                               \n",
      "                                                                                                  \n",
      " block7a_se_reduce (Conv2D)  (None, 1, 1, 48)             55344     ['block7a_se_reshape[0][0]']  \n",
      "                                                                                                  \n",
      " block7a_se_expand (Conv2D)  (None, 1, 1, 1152)           56448     ['block7a_se_reduce[0][0]']   \n",
      "                                                                                                  \n",
      " block7a_se_excite (Multipl  (None, 5, 5, 1152)           0         ['block7a_activation[0][0]',  \n",
      " y)                                                                  'block7a_se_expand[0][0]']   \n",
      "                                                                                                  \n",
      " block7a_project_conv (Conv  (None, 5, 5, 320)            368640    ['block7a_se_excite[0][0]']   \n",
      " 2D)                                                                                              \n",
      "                                                                                                  \n",
      " block7a_project_bn (BatchN  (None, 5, 5, 320)            1280      ['block7a_project_conv[0][0]']\n",
      " ormalization)                                                                                    \n",
      "                                                                                                  \n",
      " top_conv (Conv2D)           (None, 5, 5, 1280)           409600    ['block7a_project_bn[0][0]']  \n"
     ]
    },
    {
     "name": "stdout",
     "output_type": "stream",
     "text": [
      "                                                                                                  \n",
      " top_bn (BatchNormalization  (None, 5, 5, 1280)           5120      ['top_conv[0][0]']            \n",
      " )                                                                                                \n",
      "                                                                                                  \n",
      " top_activation (Activation  (None, 5, 5, 1280)           0         ['top_bn[0][0]']              \n",
      " )                                                                                                \n",
      "                                                                                                  \n",
      " global_average_pooling2d (  (None, 1280)                 0         ['top_activation[0][0]']      \n",
      " GlobalAveragePooling2D)                                                                          \n",
      "                                                                                                  \n",
      " dropout (Dropout)           (None, 1280)                 0         ['global_average_pooling2d[0][\n",
      "                                                                    0]']                          \n",
      "                                                                                                  \n",
      " dense (Dense)               (None, 3)                    3843      ['dropout[0][0]']             \n",
      "                                                                                                  \n",
      "==================================================================================================\n",
      "Total params: 4053414 (15.46 MB)\n",
      "Trainable params: 4011391 (15.30 MB)\n",
      "Non-trainable params: 42023 (164.16 KB)\n",
      "__________________________________________________________________________________________________\n"
     ]
    }
   ],
   "source": [
    "#Merge input and Output of model\n",
    "model = tf.keras.models.Model(inputs=efficientnet_B0.input, outputs=model)\n",
    "\n",
    "model.summary()"
   ]
  },
  {
   "cell_type": "code",
   "execution_count": 18,
   "metadata": {
    "execution": {
     "iopub.execute_input": "2022-10-27T05:54:38.368559Z",
     "iopub.status.busy": "2022-10-27T05:54:38.368135Z",
     "iopub.status.idle": "2022-10-27T05:54:38.384669Z",
     "shell.execute_reply": "2022-10-27T05:54:38.383753Z",
     "shell.execute_reply.started": "2022-10-27T05:54:38.368523Z"
    }
   },
   "outputs": [],
   "source": [
    "model.compile(optimizer='adam',\n",
    "    loss='categorical_crossentropy',\n",
    "    metrics=['acc'])"
   ]
  },
  {
   "cell_type": "code",
   "execution_count": 19,
   "metadata": {
    "execution": {
     "iopub.execute_input": "2022-10-27T05:54:38.390091Z",
     "iopub.status.busy": "2022-10-27T05:54:38.389531Z",
     "iopub.status.idle": "2022-10-27T05:54:39.009151Z",
     "shell.execute_reply": "2022-10-27T05:54:39.007946Z",
     "shell.execute_reply.started": "2022-10-27T05:54:38.390054Z"
    }
   },
   "outputs": [],
   "source": [
    "tensorBoard = TensorBoard(log_dir=\"logs\")\n",
    "checkPoint = ModelCheckpoint(\"efficient_net_B0.h5\",\n",
    "                            monitor='val_loss',\n",
    "                            verbose=1,\n",
    "                            save_best_only=True,\n",
    "                            mode='auto')\n",
    "reduce_lr = ReduceLROnPlateau(monitor='val_loss',\n",
    "                             factor=0.3,\n",
    "                             patience=2,\n",
    "                             verbose=1,\n",
    "                             mode='auto',\n",
    "                             min_delta=0.001)\n",
    "es = EarlyStopping(monitor='val_loss',\n",
    "                   patience=5,\n",
    "                   verbose=1,\n",
    "                   mode='auto',\n",
    "                   restore_best_weights=True) "
   ]
  },
  {
   "cell_type": "code",
   "execution_count": 20,
   "metadata": {
    "execution": {
     "iopub.execute_input": "2022-10-27T05:54:39.011277Z",
     "iopub.status.busy": "2022-10-27T05:54:39.010876Z",
     "iopub.status.idle": "2022-10-27T06:06:09.798755Z",
     "shell.execute_reply": "2022-10-27T06:06:09.797772Z",
     "shell.execute_reply.started": "2022-10-27T05:54:39.011240Z"
    }
   },
   "outputs": [
    {
     "name": "stdout",
     "output_type": "stream",
     "text": [
      "Epoch 1/20\n",
      "199/199 [==============================] - ETA: 0s - loss: 0.5686 - acc: 0.7261 \n",
      "Epoch 1: val_loss improved from inf to 0.46660, saving model to efficient_net_B0.h5\n"
     ]
    },
    {
     "name": "stderr",
     "output_type": "stream",
     "text": [
      "C:\\Users\\mahmoud\\anaconda3\\lib\\site-packages\\keras\\src\\engine\\training.py:3000: UserWarning: You are saving your model as an HDF5 file via `model.save()`. This file format is considered legacy. We recommend using instead the native Keras format, e.g. `model.save('my_model.keras')`.\n",
      "  saving_api.save_model(\n"
     ]
    },
    {
     "name": "stdout",
     "output_type": "stream",
     "text": [
      "199/199 [==============================] - 3329s 16s/step - loss: 0.5686 - acc: 0.7261 - val_loss: 0.4666 - val_acc: 0.7847 - lr: 0.0010\n",
      "Epoch 2/20\n",
      "199/199 [==============================] - ETA: 0s - loss: 0.3248 - acc: 0.8570 \n",
      "Epoch 2: val_loss did not improve from 0.46660\n",
      "199/199 [==============================] - 2667s 13s/step - loss: 0.3248 - acc: 0.8570 - val_loss: 0.6366 - val_acc: 0.7861 - lr: 0.0010\n",
      "Epoch 3/20\n",
      "199/199 [==============================] - ETA: 0s - loss: 0.2108 - acc: 0.9129 \n",
      "Epoch 3: val_loss improved from 0.46660 to 0.22836, saving model to efficient_net_B0.h5\n",
      "199/199 [==============================] - 3290s 17s/step - loss: 0.2108 - acc: 0.9129 - val_loss: 0.2284 - val_acc: 0.9164 - lr: 0.0010\n",
      "Epoch 4/20\n",
      "199/199 [==============================] - ETA: 0s - loss: 0.1542 - acc: 0.9397 \n",
      "Epoch 4: val_loss did not improve from 0.22836\n",
      "199/199 [==============================] - 2693s 14s/step - loss: 0.1542 - acc: 0.9397 - val_loss: 0.5135 - val_acc: 0.8796 - lr: 0.0010\n",
      "Epoch 5/20\n",
      "199/199 [==============================] - ETA: 0s - loss: 0.1196 - acc: 0.9579 \n",
      "Epoch 5: val_loss did not improve from 0.22836\n",
      "\n",
      "Epoch 5: ReduceLROnPlateau reducing learning rate to 0.0003000000142492354.\n",
      "199/199 [==============================] - 2666s 13s/step - loss: 0.1196 - acc: 0.9579 - val_loss: 0.2443 - val_acc: 0.9178 - lr: 0.0010\n",
      "Epoch 6/20\n",
      "199/199 [==============================] - ETA: 0s - loss: 0.0455 - acc: 0.9850 \n",
      "Epoch 6: val_loss improved from 0.22836 to 0.09275, saving model to efficient_net_B0.h5\n",
      "199/199 [==============================] - 3589s 18s/step - loss: 0.0455 - acc: 0.9850 - val_loss: 0.0927 - val_acc: 0.9703 - lr: 3.0000e-04\n",
      "Epoch 7/20\n",
      "199/199 [==============================] - ETA: 0s - loss: 0.0183 - acc: 0.9939 \n",
      "Epoch 7: val_loss did not improve from 0.09275\n",
      "199/199 [==============================] - 2700s 14s/step - loss: 0.0183 - acc: 0.9939 - val_loss: 0.1151 - val_acc: 0.9703 - lr: 3.0000e-04\n",
      "Epoch 8/20\n",
      "199/199 [==============================] - ETA: 0s - loss: 0.0132 - acc: 0.9959 \n",
      "Epoch 8: val_loss improved from 0.09275 to 0.07731, saving model to efficient_net_B0.h5\n",
      "199/199 [==============================] - 2693s 14s/step - loss: 0.0132 - acc: 0.9959 - val_loss: 0.0773 - val_acc: 0.9717 - lr: 3.0000e-04\n",
      "Epoch 9/20\n",
      "199/199 [==============================] - ETA: 0s - loss: 0.0112 - acc: 0.9968 \n",
      "Epoch 9: val_loss did not improve from 0.07731\n",
      "199/199 [==============================] - 2677s 13s/step - loss: 0.0112 - acc: 0.9968 - val_loss: 0.0939 - val_acc: 0.9674 - lr: 3.0000e-04\n",
      "Epoch 10/20\n",
      "199/199 [==============================] - ETA: 0s - loss: 0.0140 - acc: 0.9965 \n",
      "Epoch 10: val_loss did not improve from 0.07731\n",
      "\n",
      "Epoch 10: ReduceLROnPlateau reducing learning rate to 9.000000427477062e-05.\n",
      "199/199 [==============================] - 2704s 14s/step - loss: 0.0140 - acc: 0.9965 - val_loss: 0.1048 - val_acc: 0.9717 - lr: 3.0000e-04\n",
      "Epoch 11/20\n",
      "199/199 [==============================] - ETA: 0s - loss: 0.0059 - acc: 0.9987 \n",
      "Epoch 11: val_loss improved from 0.07731 to 0.06449, saving model to efficient_net_B0.h5\n",
      "199/199 [==============================] - 2726s 14s/step - loss: 0.0059 - acc: 0.9987 - val_loss: 0.0645 - val_acc: 0.9816 - lr: 9.0000e-05\n",
      "Epoch 12/20\n",
      "199/199 [==============================] - ETA: 0s - loss: 0.0047 - acc: 0.9989 \n",
      "Epoch 12: val_loss improved from 0.06449 to 0.05786, saving model to efficient_net_B0.h5\n",
      "199/199 [==============================] - 2689s 13s/step - loss: 0.0047 - acc: 0.9989 - val_loss: 0.0579 - val_acc: 0.9802 - lr: 9.0000e-05\n",
      "Epoch 13/20\n",
      "199/199 [==============================] - ETA: 0s - loss: 0.0042 - acc: 0.9991 \n",
      "Epoch 13: val_loss did not improve from 0.05786\n",
      "199/199 [==============================] - 2686s 13s/step - loss: 0.0042 - acc: 0.9991 - val_loss: 0.0710 - val_acc: 0.9802 - lr: 9.0000e-05\n",
      "Epoch 14/20\n",
      "199/199 [==============================] - ETA: 0s - loss: 0.0019 - acc: 0.9997 \n",
      "Epoch 14: val_loss did not improve from 0.05786\n",
      "\n",
      "Epoch 14: ReduceLROnPlateau reducing learning rate to 2.700000040931627e-05.\n",
      "199/199 [==============================] - 2673s 13s/step - loss: 0.0019 - acc: 0.9997 - val_loss: 0.0631 - val_acc: 0.9802 - lr: 9.0000e-05\n",
      "Epoch 15/20\n",
      "199/199 [==============================] - ETA: 0s - loss: 0.0022 - acc: 0.9994 \n",
      "Epoch 15: val_loss did not improve from 0.05786\n",
      "199/199 [==============================] - 2675s 13s/step - loss: 0.0022 - acc: 0.9994 - val_loss: 0.0587 - val_acc: 0.9802 - lr: 2.7000e-05\n",
      "Epoch 16/20\n",
      "199/199 [==============================] - ETA: 0s - loss: 0.0023 - acc: 0.9997 \n",
      "Epoch 16: val_loss did not improve from 0.05786\n",
      "\n",
      "Epoch 16: ReduceLROnPlateau reducing learning rate to 8.100000013655517e-06.\n",
      "199/199 [==============================] - 2681s 13s/step - loss: 0.0023 - acc: 0.9997 - val_loss: 0.0593 - val_acc: 0.9802 - lr: 2.7000e-05\n",
      "Epoch 17/20\n",
      "199/199 [==============================] - ETA: 0s - loss: 0.0027 - acc: 0.9991 \n",
      "Epoch 17: val_loss did not improve from 0.05786\n",
      "Restoring model weights from the end of the best epoch: 12.\n",
      "199/199 [==============================] - 2690s 14s/step - loss: 0.0027 - acc: 0.9991 - val_loss: 0.0580 - val_acc: 0.9802 - lr: 8.1000e-06\n",
      "Epoch 17: early stopping\n"
     ]
    }
   ],
   "source": [
    "history = model.fit(X_train, \n",
    "                    Y_train,\n",
    "                    batch_size=32,\n",
    "                    validation_split=0.1,\n",
    "                    epochs=20,\n",
    "                    verbose=1,\n",
    "                    callbacks=[tensorBoard, checkPoint, reduce_lr, es])"
   ]
  },
  {
   "cell_type": "code",
   "execution_count": 21,
   "metadata": {
    "execution": {
     "iopub.execute_input": "2022-10-27T06:06:09.801306Z",
     "iopub.status.busy": "2022-10-27T06:06:09.800805Z",
     "iopub.status.idle": "2022-10-27T06:06:12.415860Z",
     "shell.execute_reply": "2022-10-27T06:06:12.414623Z",
     "shell.execute_reply.started": "2022-10-27T06:06:09.801259Z"
    }
   },
   "outputs": [
    {
     "name": "stdout",
     "output_type": "stream",
     "text": [
      "25/25 [==============================] - 98s 3s/step\n",
      "              precision    recall  f1-score   support\n",
      "\n",
      "           0       0.98      0.97      0.97       360\n",
      "           1       0.99      1.00      1.00       317\n",
      "           2       0.93      0.93      0.93       107\n",
      "\n",
      "    accuracy                           0.98       784\n",
      "   macro avg       0.97      0.97      0.97       784\n",
      "weighted avg       0.98      0.98      0.98       784\n",
      "\n"
     ]
    }
   ],
   "source": [
    "pred = model.predict(X_test)\n",
    "pred = np.argmax(pred, axis=1)\n",
    "actual_label = np.argmax(Y_test, axis=1)\n",
    "print(classification_report(actual_label, pred))"
   ]
  },
  {
   "cell_type": "code",
   "execution_count": 22,
   "metadata": {
    "execution": {
     "iopub.execute_input": "2022-10-27T06:06:12.418749Z",
     "iopub.status.busy": "2022-10-27T06:06:12.417957Z",
     "iopub.status.idle": "2022-10-27T06:06:12.714687Z",
     "shell.execute_reply": "2022-10-27T06:06:12.713642Z",
     "shell.execute_reply.started": "2022-10-27T06:06:12.418688Z"
    }
   },
   "outputs": [
    {
     "data": {
      "image/png": "[encoded data removed]",
      "text/plain": [
       "<Figure size 560x420 with 2 Axes>"
      ]
     },
     "metadata": {},
     "output_type": "display_data"
    }
   ],
   "source": [
    "cnf = confusion_matrix(actual_label, pred)\n",
    "plt.figure(figsize=(8,6), dpi=70, facecolor='w', edgecolor='k')\n",
    "ax = sns.heatmap(cnf, cmap='Blues',annot=True, fmt='d', xticklabels=labels, yticklabels=labels)\n",
    "plt.title('Parkinson\\'s Disease Classification')\n",
    "plt.xlabel('Prediction')\n",
    "plt.ylabel('Ground Truth')\n",
    "plt.show(ax)"
   ]
  },
  {
   "cell_type": "code",
   "execution_count": 23,
   "metadata": {
    "execution": {
     "iopub.execute_input": "2022-10-27T06:06:12.716614Z",
     "iopub.status.busy": "2022-10-27T06:06:12.716273Z",
     "iopub.status.idle": "2022-10-27T06:06:18.994706Z",
     "shell.execute_reply": "2022-10-27T06:06:18.993031Z",
     "shell.execute_reply.started": "2022-10-27T06:06:12.716580Z"
    }
   },
   "outputs": [
    {
     "name": "stdout",
     "output_type": "stream",
     "text": [
      "You must install pydot (`pip install pydot`) and install graphviz (see instructions at https://graphviz.gitlab.io/download/) for plot_model to work.\n"
     ]
    }
   ],
   "source": [
    "saved_model = tf.keras.models.load_model(\"./efficient_net_B0.h5\")\n",
    "\n",
    "#Show Model Architecture\n",
    "plot_model(saved_model,\n",
    "          to_file='efficient_net_B0.png',\n",
    "          show_shapes=True,\n",
    "          show_layer_names=True)"
   ]
  },
  {
   "cell_type": "code",
   "execution_count": 31,
   "metadata": {
    "execution": {
     "iopub.execute_input": "2022-10-27T06:06:18.998323Z",
     "iopub.status.busy": "2022-10-27T06:06:18.997190Z",
     "iopub.status.idle": "2022-10-27T06:06:19.010220Z",
     "shell.execute_reply": "2022-10-27T06:06:19.009341Z",
     "shell.execute_reply.started": "2022-10-27T06:06:18.998248Z"
    }
   },
   "outputs": [],
   "source": [
    "def imagePrediction(upload):\n",
    "    for name, fileinfo  in uploader.value.items():\n",
    "        image = Image.open(io.BytesIO(fileinfo['content']))\n",
    "        \n",
    "    images = cv2.cvtColor(np.array(image), cv2.COLOR_RGB2BGR)\n",
    "    images = cv2.resize(images,(150, 150))\n",
    "    images = images.reshape(1, 150, 150, 3)\n",
    "    prd = model.predict(images)\n",
    "    prd = np.argmax(prd, axis = 1)[0]\n",
    "    \n",
    "    if prd == 0:\n",
    "        prd = \"CONTROL\"\n",
    "    elif prd == 1:\n",
    "        prd = \"AD\"\n",
    "    elif prd ==2:\n",
    "        prd = \"PD\"\n",
    "        \n",
    "    print(f'Model Predict That is  a {prd}')"
   ]
  },
  {
   "cell_type": "code",
   "execution_count": 32,
   "metadata": {
    "execution": {
     "iopub.execute_input": "2022-10-27T06:06:19.012577Z",
     "iopub.status.busy": "2022-10-27T06:06:19.011573Z",
     "iopub.status.idle": "2022-10-27T06:06:19.036251Z",
     "shell.execute_reply": "2022-10-27T06:06:19.035404Z",
     "shell.execute_reply.started": "2022-10-27T06:06:19.012491Z"
    }
   },
   "outputs": [
    {
     "data": {
      "application/vnd.jupyter.widget-view+json": {
       "model_id": "3d93672552c24284a629091af8d4767a",
       "version_major": 2,
       "version_minor": 0
      },
      "text/plain": [
       "FileUpload(value={}, description='Upload')"
      ]
     },
     "metadata": {},
     "output_type": "display_data"
    }
   ],
   "source": [
    "uploader = widgets.FileUpload()\n",
    "display(uploader)"
   ]
  },
  {
   "cell_type": "code",
   "execution_count": 33,
   "metadata": {
    "execution": {
     "iopub.execute_input": "2022-10-27T06:06:19.038482Z",
     "iopub.status.busy": "2022-10-27T06:06:19.037517Z",
     "iopub.status.idle": "2022-10-27T06:06:19.071621Z",
     "shell.execute_reply": "2022-10-27T06:06:19.070868Z",
     "shell.execute_reply.started": "2022-10-27T06:06:19.038446Z"
    }
   },
   "outputs": [
    {
     "data": {
      "application/vnd.jupyter.widget-view+json": {
       "model_id": "1b75ebcecef04651ad3da8c8061f09f6",
       "version_major": 2,
       "version_minor": 0
      },
      "text/plain": [
       "VBox(children=(Button(description='Predict', style=ButtonStyle()), Output()))"
      ]
     },
     "metadata": {},
     "output_type": "display_data"
    }
   ],
   "source": [
    "button = widgets.Button(description= \"Predict\")\n",
    "out = widgets.Output()\n",
    "\n",
    "def on_button_click(_):\n",
    "    with out:\n",
    "        clear_output()\n",
    "        try:\n",
    "            imagePrediction(uploader)\n",
    "        except:\n",
    "            print(\"Please Enter the Correct Image files\")\n",
    "            \n",
    "            \n",
    "button.on_click(on_button_click)\n",
    "widgets.VBox([button, out])"
   ]
  },
  {
   "cell_type": "code",
   "execution_count": null,
   "metadata": {},
   "outputs": [],
   "source": []
  }
 ],
 "metadata": {
  "kernelspec": {
   "display_name": "Python 3 (ipykernel)",
   "language": "python",
   "name": "python3"
  },
  "language_info": {
   "codemirror_mode": {
    "name": "ipython",
    "version": 3
   },
   "file_extension": ".py",
   "mimetype": "text/x-python",
   "name": "python",
   "nbconvert_exporter": "python",
   "pygments_lexer": "ipython3",
   "version": "3.11.3"
  }
 },
 "nbformat": 4,
 "nbformat_minor": 4
}
